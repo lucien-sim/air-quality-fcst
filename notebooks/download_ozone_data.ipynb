{
 "cells": [
  {
   "cell_type": "markdown",
   "metadata": {},
   "source": [
    "# Download new data"
   ]
  },
  {
   "cell_type": "code",
   "execution_count": 2,
   "metadata": {},
   "outputs": [
    {
     "name": "stdout",
     "output_type": "stream",
     "text": [
      "directory already exists: /Volumes/DataPics/ML_practice_data/air_poll_fcst/data\n"
     ]
    }
   ],
   "source": [
    "import os\n",
    "import zipfile\n",
    "import requests\n",
    "\n",
    "def unzip_file(path_to_file,destination,new_name):\n",
    "    \"\"\"Function for unzipping a zip file. \n",
    "    \n",
    "    PARAMETERS:\n",
    "    **********\n",
    "\n",
    "    INPUTS: \n",
    "    path_to_file = file_path/file_name to zip file. \n",
    "    destionation = destination directory for zip file's contents. \n",
    "\n",
    "    OUTPUTS: \n",
    "    None\n",
    "    \"\"\"\n",
    "    \n",
    "    files_in_dir_before = os.listdir(destination)\n",
    "    zip_ref = zipfile.ZipFile(path_to_file, 'r')\n",
    "    zip_ref.extractall(destination)\n",
    "    zip_ref.close()\n",
    "    files_in_dir_after = os.listdir(destination)\n",
    "    \n",
    "    unzipped_dir = [di for di in files_in_dir_after if di not in files_in_dir_before]\n",
    "    if len(unzipped_dir)==1: \n",
    "        os.rename(os.path.join(destination,unzipped_dir[0]),os.path.join(destination,new_name))\n",
    "        \n",
    "    return\n",
    "\n",
    "\n",
    "def make_directory(dir_path): \n",
    "    try: \n",
    "        os.mkdir(dir_path)\n",
    "    except FileExistsError: \n",
    "        print('directory already exists: '+dir_path)\n",
    "    return None\n",
    "\n",
    "\n",
    "def download_file_http(url,final_dest,final_name):  \n",
    "    r = requests.get(url)\n",
    "    with open(os.path.join(final_dest,final_name), 'wb') as f:\n",
    "        f.write(r.content)\n",
    "    return final_dest,final_name\n",
    "\n",
    "\n",
    "def download_list_of_zipfiles(url_list,data_path):\n",
    "    final_filenames = []\n",
    "    for url in url_list: \n",
    "        final_dest,zip_name = download_file_http(url,data_path,url.split('/')[-1])\n",
    "        final_filenames.append(zip_name.split('.')[0]+'.csv')\n",
    "        unzip_file(os.path.join(final_dest,zip_name),final_dest,final_filenames[-1])\n",
    "        os.remove(os.path.join(final_dest,zip_name))\n",
    "    return final_filenames   \n",
    "\n",
    "\n",
    "if __name__=='__main__': \n",
    "    \n",
    "    data_path = '/Volumes/DataPics/ML_practice_data/air_poll_fcst/data'\n",
    "    st_year,ed_year = 2003,2019\n",
    "    \n",
    "    make_directory(data_path)\n",
    "\n",
    "    o3_urls = ['https://aqs.epa.gov/aqsweb/airdata/hourly_44201_'+str(year)+'.zip' \n",
    "               for year in range(st_year,ed_year+1)]\n",
    "    o3_files = download_list_of_zipfiles(o3_urls,data_path)"
   ]
  }
 ],
 "metadata": {
  "kernelspec": {
   "display_name": "Python 3",
   "language": "python",
   "name": "python3"
  },
  "language_info": {
   "codemirror_mode": {
    "name": "ipython",
    "version": 3
   },
   "file_extension": ".py",
   "mimetype": "text/x-python",
   "name": "python",
   "nbconvert_exporter": "python",
   "pygments_lexer": "ipython3",
   "version": "3.6.7"
  }
 },
 "nbformat": 4,
 "nbformat_minor": 2
}
